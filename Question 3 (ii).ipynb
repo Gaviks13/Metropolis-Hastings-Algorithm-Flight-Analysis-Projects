{
 "cells": [
  {
   "cell_type": "markdown",
   "id": "b647bd6c",
   "metadata": {},
   "source": [
    "## Fitting a Logistic Regression Model"
   ]
  },
  {
   "cell_type": "code",
   "execution_count": 1,
   "id": "17e13f49",
   "metadata": {},
   "outputs": [],
   "source": [
    "# importing the necassary libraries\n",
    "\n",
    "import pandas as pd\n",
    "import seaborn as sns\n",
    "import matplotlib.pyplot as plt\n",
    "from scipy import stats\n",
    "\n",
    "from sklearn.preprocessing import StandardScaler\n",
    "from sklearn.model_selection import train_test_split\n",
    "from sklearn.linear_model import LogisticRegression\n",
    "\n",
    "from sklearn.metrics import confusion_matrix\n",
    "from sklearn.metrics import classification_report\n",
    "from sklearn.metrics import accuracy_score\n",
    "from sklearn.metrics import precision_score\n",
    "from sklearn.metrics import recall_score\n",
    "from sklearn.metrics import f1_score\n",
    "from sklearn.metrics import roc_curve"
   ]
  },
  {
   "cell_type": "code",
   "execution_count": 2,
   "id": "38de24b9",
   "metadata": {},
   "outputs": [],
   "source": [
    "columns_for_model = pd.read_csv(r\"D:\\User\\University\\Year 2\\Programming for Data Science\\Programming Coursework\\Python files\\columns_for_model.csv\")"
   ]
  },
  {
   "cell_type": "code",
   "execution_count": 3,
   "id": "fb4b981d",
   "metadata": {},
   "outputs": [
    {
     "data": {
      "text/plain": [
       "Index(['Diverted', 'CRSDepTime', 'CRSArrTime', 'Distance', 'Cancelled',\n",
       "       'CarrierDelay', 'DepDelay', 'WeatherDelay', 'NASDelay', 'SecurityDelay',\n",
       "       'LateAircraftDelay', 'Origin lat', 'Origin long', 'Dest lat',\n",
       "       'Dest long', 'UniqueCarrier Encoded', 'airport Encoded',\n",
       "       'Month Encoded', 'DayOfWeek Encoded'],\n",
       "      dtype='object')"
      ]
     },
     "execution_count": 3,
     "metadata": {},
     "output_type": "execute_result"
    }
   ],
   "source": [
    "columns_for_model.columns"
   ]
  },
  {
   "cell_type": "code",
   "execution_count": 4,
   "id": "ad71db63",
   "metadata": {},
   "outputs": [],
   "source": [
    "# separating the dependent variables from the target/response variable\n",
    "\n",
    "X = columns_for_model[['CRSDepTime','CRSArrTime', 'Distance', 'Cancelled', 'CarrierDelay', 'DepDelay', \n",
    "       'WeatherDelay', 'NASDelay', 'SecurityDelay', 'LateAircraftDelay', 'airport Encoded',\n",
    "       'Origin lat', 'Origin long', 'Dest lat', 'Dest long', 'UniqueCarrier Encoded',\n",
    "                       'Month Encoded', 'DayOfWeek Encoded']]\n",
    "y = columns_for_model['Diverted']"
   ]
  },
  {
   "cell_type": "code",
   "execution_count": 5,
   "id": "bbe06e69",
   "metadata": {},
   "outputs": [],
   "source": [
    "# splitting the data into train and test\n",
    "X_train, X_test, y_train, y_test = train_test_split(X, y, test_size=0.3, random_state=13, stratify=y)"
   ]
  },
  {
   "cell_type": "code",
   "execution_count": 6,
   "id": "f7eec29b",
   "metadata": {},
   "outputs": [
    {
     "data": {
      "text/plain": [
       "Diverted\n",
       "0    5197565\n",
       "1      12002\n",
       "Name: count, dtype: int64"
      ]
     },
     "execution_count": 6,
     "metadata": {},
     "output_type": "execute_result"
    }
   ],
   "source": [
    "y_train.value_counts()"
   ]
  },
  {
   "cell_type": "code",
   "execution_count": 7,
   "id": "96f6885a",
   "metadata": {},
   "outputs": [
    {
     "data": {
      "text/html": [
       "<div>\n",
       "<style scoped>\n",
       "    .dataframe tbody tr th:only-of-type {\n",
       "        vertical-align: middle;\n",
       "    }\n",
       "\n",
       "    .dataframe tbody tr th {\n",
       "        vertical-align: top;\n",
       "    }\n",
       "\n",
       "    .dataframe thead th {\n",
       "        text-align: right;\n",
       "    }\n",
       "</style>\n",
       "<table border=\"1\" class=\"dataframe\">\n",
       "  <thead>\n",
       "    <tr style=\"text-align: right;\">\n",
       "      <th></th>\n",
       "      <th>CRSDepTime</th>\n",
       "      <th>CRSArrTime</th>\n",
       "      <th>Distance</th>\n",
       "      <th>Cancelled</th>\n",
       "      <th>CarrierDelay</th>\n",
       "      <th>DepDelay</th>\n",
       "      <th>WeatherDelay</th>\n",
       "      <th>NASDelay</th>\n",
       "      <th>SecurityDelay</th>\n",
       "      <th>LateAircraftDelay</th>\n",
       "      <th>airport Encoded</th>\n",
       "      <th>Origin lat</th>\n",
       "      <th>Origin long</th>\n",
       "      <th>Dest lat</th>\n",
       "      <th>Dest long</th>\n",
       "      <th>UniqueCarrier Encoded</th>\n",
       "      <th>Month Encoded</th>\n",
       "      <th>DayOfWeek Encoded</th>\n",
       "      <th>Diverted</th>\n",
       "    </tr>\n",
       "  </thead>\n",
       "  <tbody>\n",
       "    <tr>\n",
       "      <th>600389</th>\n",
       "      <td>1140</td>\n",
       "      <td>1305</td>\n",
       "      <td>417</td>\n",
       "      <td>0</td>\n",
       "      <td>0</td>\n",
       "      <td>21.0</td>\n",
       "      <td>0</td>\n",
       "      <td>0</td>\n",
       "      <td>0</td>\n",
       "      <td>0</td>\n",
       "      <td>242</td>\n",
       "      <td>37.361862</td>\n",
       "      <td>-121.929009</td>\n",
       "      <td>32.733556</td>\n",
       "      <td>-117.189657</td>\n",
       "      <td>11</td>\n",
       "      <td>3</td>\n",
       "      <td>2</td>\n",
       "      <td>0</td>\n",
       "    </tr>\n",
       "    <tr>\n",
       "      <th>2116564</th>\n",
       "      <td>1915</td>\n",
       "      <td>2335</td>\n",
       "      <td>1471</td>\n",
       "      <td>0</td>\n",
       "      <td>0</td>\n",
       "      <td>4.0</td>\n",
       "      <td>0</td>\n",
       "      <td>0</td>\n",
       "      <td>0</td>\n",
       "      <td>0</td>\n",
       "      <td>56</td>\n",
       "      <td>32.895951</td>\n",
       "      <td>-97.037200</td>\n",
       "      <td>41.938874</td>\n",
       "      <td>-72.683228</td>\n",
       "      <td>1</td>\n",
       "      <td>3</td>\n",
       "      <td>3</td>\n",
       "      <td>0</td>\n",
       "    </tr>\n",
       "    <tr>\n",
       "      <th>5796692</th>\n",
       "      <td>1900</td>\n",
       "      <td>2022</td>\n",
       "      <td>306</td>\n",
       "      <td>0</td>\n",
       "      <td>0</td>\n",
       "      <td>2.0</td>\n",
       "      <td>0</td>\n",
       "      <td>0</td>\n",
       "      <td>0</td>\n",
       "      <td>0</td>\n",
       "      <td>157</td>\n",
       "      <td>38.174389</td>\n",
       "      <td>-85.736000</td>\n",
       "      <td>42.212059</td>\n",
       "      <td>-83.348836</td>\n",
       "      <td>12</td>\n",
       "      <td>11</td>\n",
       "      <td>1</td>\n",
       "      <td>0</td>\n",
       "    </tr>\n",
       "    <tr>\n",
       "      <th>1469013</th>\n",
       "      <td>1130</td>\n",
       "      <td>1435</td>\n",
       "      <td>775</td>\n",
       "      <td>0</td>\n",
       "      <td>28</td>\n",
       "      <td>52.0</td>\n",
       "      <td>0</td>\n",
       "      <td>13</td>\n",
       "      <td>0</td>\n",
       "      <td>5</td>\n",
       "      <td>60</td>\n",
       "      <td>39.858408</td>\n",
       "      <td>-104.667002</td>\n",
       "      <td>30.194533</td>\n",
       "      <td>-97.669872</td>\n",
       "      <td>8</td>\n",
       "      <td>1</td>\n",
       "      <td>5</td>\n",
       "      <td>0</td>\n",
       "    </tr>\n",
       "    <tr>\n",
       "      <th>6024641</th>\n",
       "      <td>2029</td>\n",
       "      <td>2302</td>\n",
       "      <td>2089</td>\n",
       "      <td>0</td>\n",
       "      <td>0</td>\n",
       "      <td>-4.0</td>\n",
       "      <td>0</td>\n",
       "      <td>0</td>\n",
       "      <td>0</td>\n",
       "      <td>0</td>\n",
       "      <td>234</td>\n",
       "      <td>38.852083</td>\n",
       "      <td>-77.037722</td>\n",
       "      <td>36.080361</td>\n",
       "      <td>-115.152333</td>\n",
       "      <td>16</td>\n",
       "      <td>2</td>\n",
       "      <td>5</td>\n",
       "      <td>0</td>\n",
       "    </tr>\n",
       "    <tr>\n",
       "      <th>...</th>\n",
       "      <td>...</td>\n",
       "      <td>...</td>\n",
       "      <td>...</td>\n",
       "      <td>...</td>\n",
       "      <td>...</td>\n",
       "      <td>...</td>\n",
       "      <td>...</td>\n",
       "      <td>...</td>\n",
       "      <td>...</td>\n",
       "      <td>...</td>\n",
       "      <td>...</td>\n",
       "      <td>...</td>\n",
       "      <td>...</td>\n",
       "      <td>...</td>\n",
       "      <td>...</td>\n",
       "      <td>...</td>\n",
       "      <td>...</td>\n",
       "      <td>...</td>\n",
       "      <td>...</td>\n",
       "    </tr>\n",
       "    <tr>\n",
       "      <th>81348</th>\n",
       "      <td>1735</td>\n",
       "      <td>2020</td>\n",
       "      <td>616</td>\n",
       "      <td>0</td>\n",
       "      <td>0</td>\n",
       "      <td>-5.0</td>\n",
       "      <td>0</td>\n",
       "      <td>0</td>\n",
       "      <td>0</td>\n",
       "      <td>0</td>\n",
       "      <td>192</td>\n",
       "      <td>36.124477</td>\n",
       "      <td>-86.678182</td>\n",
       "      <td>28.428889</td>\n",
       "      <td>-81.316028</td>\n",
       "      <td>17</td>\n",
       "      <td>11</td>\n",
       "      <td>6</td>\n",
       "      <td>0</td>\n",
       "    </tr>\n",
       "    <tr>\n",
       "      <th>1494100</th>\n",
       "      <td>2135</td>\n",
       "      <td>2245</td>\n",
       "      <td>804</td>\n",
       "      <td>0</td>\n",
       "      <td>15</td>\n",
       "      <td>22.0</td>\n",
       "      <td>0</td>\n",
       "      <td>0</td>\n",
       "      <td>0</td>\n",
       "      <td>0</td>\n",
       "      <td>60</td>\n",
       "      <td>39.858408</td>\n",
       "      <td>-104.667002</td>\n",
       "      <td>39.498576</td>\n",
       "      <td>-119.768065</td>\n",
       "      <td>8</td>\n",
       "      <td>6</td>\n",
       "      <td>6</td>\n",
       "      <td>0</td>\n",
       "    </tr>\n",
       "    <tr>\n",
       "      <th>1859584</th>\n",
       "      <td>2005</td>\n",
       "      <td>2040</td>\n",
       "      <td>449</td>\n",
       "      <td>0</td>\n",
       "      <td>0</td>\n",
       "      <td>21.0</td>\n",
       "      <td>0</td>\n",
       "      <td>0</td>\n",
       "      <td>0</td>\n",
       "      <td>0</td>\n",
       "      <td>289</td>\n",
       "      <td>33.640444</td>\n",
       "      <td>-84.426944</td>\n",
       "      <td>30.533161</td>\n",
       "      <td>-91.149634</td>\n",
       "      <td>7</td>\n",
       "      <td>4</td>\n",
       "      <td>1</td>\n",
       "      <td>0</td>\n",
       "    </tr>\n",
       "    <tr>\n",
       "      <th>7435223</th>\n",
       "      <td>2036</td>\n",
       "      <td>2142</td>\n",
       "      <td>399</td>\n",
       "      <td>0</td>\n",
       "      <td>0</td>\n",
       "      <td>-15.0</td>\n",
       "      <td>0</td>\n",
       "      <td>0</td>\n",
       "      <td>0</td>\n",
       "      <td>0</td>\n",
       "      <td>21</td>\n",
       "      <td>60.779776</td>\n",
       "      <td>-161.837998</td>\n",
       "      <td>61.174320</td>\n",
       "      <td>-149.996186</td>\n",
       "      <td>3</td>\n",
       "      <td>8</td>\n",
       "      <td>5</td>\n",
       "      <td>0</td>\n",
       "    </tr>\n",
       "    <tr>\n",
       "      <th>1912849</th>\n",
       "      <td>650</td>\n",
       "      <td>755</td>\n",
       "      <td>732</td>\n",
       "      <td>0</td>\n",
       "      <td>0</td>\n",
       "      <td>-5.0</td>\n",
       "      <td>0</td>\n",
       "      <td>25</td>\n",
       "      <td>0</td>\n",
       "      <td>0</td>\n",
       "      <td>289</td>\n",
       "      <td>33.640444</td>\n",
       "      <td>-84.426944</td>\n",
       "      <td>32.895951</td>\n",
       "      <td>-97.037200</td>\n",
       "      <td>1</td>\n",
       "      <td>7</td>\n",
       "      <td>2</td>\n",
       "      <td>0</td>\n",
       "    </tr>\n",
       "  </tbody>\n",
       "</table>\n",
       "<p>5209567 rows × 19 columns</p>\n",
       "</div>"
      ],
      "text/plain": [
       "         CRSDepTime  CRSArrTime  Distance  Cancelled  CarrierDelay  DepDelay  \\\n",
       "600389         1140        1305       417          0             0      21.0   \n",
       "2116564        1915        2335      1471          0             0       4.0   \n",
       "5796692        1900        2022       306          0             0       2.0   \n",
       "1469013        1130        1435       775          0            28      52.0   \n",
       "6024641        2029        2302      2089          0             0      -4.0   \n",
       "...             ...         ...       ...        ...           ...       ...   \n",
       "81348          1735        2020       616          0             0      -5.0   \n",
       "1494100        2135        2245       804          0            15      22.0   \n",
       "1859584        2005        2040       449          0             0      21.0   \n",
       "7435223        2036        2142       399          0             0     -15.0   \n",
       "1912849         650         755       732          0             0      -5.0   \n",
       "\n",
       "         WeatherDelay  NASDelay  SecurityDelay  LateAircraftDelay  \\\n",
       "600389              0         0              0                  0   \n",
       "2116564             0         0              0                  0   \n",
       "5796692             0         0              0                  0   \n",
       "1469013             0        13              0                  5   \n",
       "6024641             0         0              0                  0   \n",
       "...               ...       ...            ...                ...   \n",
       "81348               0         0              0                  0   \n",
       "1494100             0         0              0                  0   \n",
       "1859584             0         0              0                  0   \n",
       "7435223             0         0              0                  0   \n",
       "1912849             0        25              0                  0   \n",
       "\n",
       "         airport Encoded  Origin lat  Origin long   Dest lat   Dest long  \\\n",
       "600389               242   37.361862  -121.929009  32.733556 -117.189657   \n",
       "2116564               56   32.895951   -97.037200  41.938874  -72.683228   \n",
       "5796692              157   38.174389   -85.736000  42.212059  -83.348836   \n",
       "1469013               60   39.858408  -104.667002  30.194533  -97.669872   \n",
       "6024641              234   38.852083   -77.037722  36.080361 -115.152333   \n",
       "...                  ...         ...          ...        ...         ...   \n",
       "81348                192   36.124477   -86.678182  28.428889  -81.316028   \n",
       "1494100               60   39.858408  -104.667002  39.498576 -119.768065   \n",
       "1859584              289   33.640444   -84.426944  30.533161  -91.149634   \n",
       "7435223               21   60.779776  -161.837998  61.174320 -149.996186   \n",
       "1912849              289   33.640444   -84.426944  32.895951  -97.037200   \n",
       "\n",
       "         UniqueCarrier Encoded  Month Encoded  DayOfWeek Encoded  Diverted  \n",
       "600389                      11              3                  2         0  \n",
       "2116564                      1              3                  3         0  \n",
       "5796692                     12             11                  1         0  \n",
       "1469013                      8              1                  5         0  \n",
       "6024641                     16              2                  5         0  \n",
       "...                        ...            ...                ...       ...  \n",
       "81348                       17             11                  6         0  \n",
       "1494100                      8              6                  6         0  \n",
       "1859584                      7              4                  1         0  \n",
       "7435223                      3              8                  5         0  \n",
       "1912849                      1              7                  2         0  \n",
       "\n",
       "[5209567 rows x 19 columns]"
      ]
     },
     "execution_count": 7,
     "metadata": {},
     "output_type": "execute_result"
    }
   ],
   "source": [
    "# the Concatenate X_train and y_train to perform undersampling to make a new data frame with the train data only\n",
    "trained_df = pd.concat([X_train, y_train], axis=1)\n",
    "trained_df"
   ]
  },
  {
   "cell_type": "markdown",
   "id": "3ef67479",
   "metadata": {},
   "source": [
    "### Using SMOTE (Synthetic Minority Over Sampling Technique)"
   ]
  },
  {
   "cell_type": "code",
   "execution_count": 8,
   "id": "21289ab5",
   "metadata": {},
   "outputs": [],
   "source": [
    "# importing SMOTE from the imblearn library\n",
    "from imblearn.over_sampling import SMOTE"
   ]
  },
  {
   "cell_type": "code",
   "execution_count": 9,
   "id": "f509398b",
   "metadata": {},
   "outputs": [
    {
     "name": "stderr",
     "output_type": "stream",
     "text": [
      "D:\\Anaconda\\Lib\\site-packages\\sklearn\\linear_model\\_sag.py:350: ConvergenceWarning: The max_iter was reached which means the coef_ did not converge\n",
      "  warnings.warn(\n"
     ]
    },
    {
     "name": "stdout",
     "output_type": "stream",
     "text": [
      "Accuracy: 0.7684236645597741\n",
      "              precision    recall  f1-score   support\n",
      "\n",
      "           0       1.00      0.77      0.87   2227528\n",
      "           1       0.01      0.65      0.01      5144\n",
      "\n",
      "    accuracy                           0.77   2232672\n",
      "   macro avg       0.50      0.71      0.44   2232672\n",
      "weighted avg       1.00      0.77      0.87   2232672\n",
      "\n"
     ]
    }
   ],
   "source": [
    "smote = SMOTE(random_state=13)\n",
    "\n",
    "# oversampling using the trained data  by synthesizing new samples in between existing minority class samples\n",
    "resampled_X_train, resampled_y_train = smote.fit_resample(X_train, y_train)\n",
    "\n",
    "# fitting a standard scalar to ensure a consistent scale leading to better performance\n",
    "scaler = StandardScaler()\n",
    "resampled_X_train_scaled = scaler.fit_transform(resampled_X_train)\n",
    "X_test_scaled = scaler.transform(X_test) \n",
    "\n",
    "# Fitting a logistic regression model\n",
    "smote_model = LogisticRegression(solver='sag', class_weight='balanced') # solver 'sag' for better performance with large datasets\n",
    "smote_model.fit(resampled_X_train, resampled_y_train)\n",
    "\n",
    "# Predict on the testing set\n",
    "y_pred = smote_model.predict(X_test)\n",
    "\n",
    "# model performance metrics\n",
    "accuracy_reading = accuracy_score(y_test, y_pred)\n",
    "cl_report = classification_report(y_test, y_pred)\n",
    "\n",
    "print(\"Accuracy:\", accuracy_reading)\n",
    "print(cl_report)"
   ]
  },
  {
   "cell_type": "markdown",
   "id": "c53e5c8b",
   "metadata": {},
   "source": [
    "### Confusion matrix"
   ]
  },
  {
   "cell_type": "code",
   "execution_count": 10,
   "id": "0de40853",
   "metadata": {},
   "outputs": [
    {
     "data": {
      "text/plain": [
       "array([[1712274,  515254],\n",
       "       [   1780,    3364]], dtype=int64)"
      ]
     },
     "execution_count": 10,
     "metadata": {},
     "output_type": "execute_result"
    }
   ],
   "source": [
    "from sklearn.metrics import confusion_matrix\n",
    "cm = confusion_matrix(y_test, y_pred)\n",
    "cm"
   ]
  },
  {
   "cell_type": "markdown",
   "id": "b66e85d5",
   "metadata": {},
   "source": [
    "### ROC (Reciever Operating Characteristic) curve and score¶"
   ]
  },
  {
   "cell_type": "code",
   "execution_count": 11,
   "id": "1ee4da89",
   "metadata": {},
   "outputs": [],
   "source": [
    "# predicting the class probabilities for the test data\n",
    "pred_prob = smote_model.predict_proba(X_test)\n",
    "\n",
    "# ROC curve calculation\n",
    "fpr, tpr, thresh = roc_curve(y_test, pred_prob[: , 1])"
   ]
  },
  {
   "cell_type": "code",
   "execution_count": 12,
   "id": "f1f0f876",
   "metadata": {},
   "outputs": [],
   "source": [
    "# library to calculate the roc auc score\n",
    "from sklearn.metrics import roc_auc_score\n",
    "auc_roc_score = roc_auc_score(y_test, pred_prob[:, 1])"
   ]
  },
  {
   "cell_type": "markdown",
   "id": "412bbb3d",
   "metadata": {},
   "source": [
    "### Plotting the ROC curve"
   ]
  },
  {
   "cell_type": "code",
   "execution_count": 14,
   "id": "74d4a551",
   "metadata": {},
   "outputs": [
    {
     "data": {
      "image/png": "[encoded data removed]",
      "text/plain": [
       "<Figure size 640x480 with 1 Axes>"
      ]
     },
     "metadata": {},
     "output_type": "display_data"
    }
   ],
   "source": [
    "plt.plot(fpr, tpr, color='m', label=f'ROC curve (AUC = {auc_roc_score:.2f})')\n",
    "plt.xlabel('Fpr')\n",
    "plt.ylabel('Tpr')\n",
    "plt.title('ROC curve', fontsize=16, fontweight='bold')\n",
    "plt.legend(loc='lower right')\n",
    "plt.grid(True)"
   ]
  },
  {
   "cell_type": "markdown",
   "id": "06ccf27f",
   "metadata": {},
   "source": [
    "### Extracting the coefficients"
   ]
  },
  {
   "cell_type": "code",
   "execution_count": 15,
   "id": "5b9e8d6e",
   "metadata": {},
   "outputs": [
    {
     "name": "stdout",
     "output_type": "stream",
     "text": [
      "Coefficients: [[-0.00063329  0.0005767   0.00060129 -0.54845524 -0.44993576  0.08222279\n",
      "  -0.30305752 -0.40012221 -0.18061369 -0.45342597  0.00074562  0.01761826\n",
      "   0.00129766  0.00787798  0.00989494 -0.02503088 -0.04095439 -0.13724807]]\n",
      "Intercept: [0.22914593]\n"
     ]
    }
   ],
   "source": [
    "# extracting the coefficients of the model\n",
    "coefficients = smote_model.coef_\n",
    "intercept = smote_model.intercept_\n",
    "\n",
    "print(\"Coefficients:\", coefficients)\n",
    "print(\"Intercept:\", intercept)"
   ]
  },
  {
   "cell_type": "markdown",
   "id": "c360c1b4",
   "metadata": {},
   "source": [
    "### Plotting a horizontal bar chart"
   ]
  },
  {
   "cell_type": "code",
   "execution_count": 16,
   "id": "408342e6",
   "metadata": {},
   "outputs": [
    {
     "data": {
      "image/png": "[encoded data removed]",
      "text/plain": [
       "<Figure size 1000x600 with 1 Axes>"
      ]
     },
     "metadata": {},
     "output_type": "display_data"
    }
   ],
   "source": [
    "features = X.columns  # Assuming X is your DataFrame or array with feature names\n",
    "\n",
    "plt.figure(figsize=(10, 6))\n",
    "\n",
    "# Plotting a bar chart\n",
    "sns.barplot(x=coefficients[0], y=features)\n",
    "plt.xlabel(\"Coefficient Value\")\n",
    "plt.ylabel(\"Feature\")\n",
    "plt.title(\"Visualization of the Coefficients\", fontweight='bold', fontsize=15)\n",
    "plt.tight_layout()\n",
    "plt.show()"
   ]
  }
 ],
 "metadata": {
  "kernelspec": {
   "display_name": "Python 3 (ipykernel)",
   "language": "python",
   "name": "python3"
  },
  "language_info": {
   "codemirror_mode": {
    "name": "ipython",
    "version": 3
   },
   "file_extension": ".py",
   "mimetype": "text/x-python",
   "name": "python",
   "nbconvert_exporter": "python",
   "pygments_lexer": "ipython3",
   "version": "3.11.5"
  }
 },
 "nbformat": 4,
 "nbformat_minor": 5
}
