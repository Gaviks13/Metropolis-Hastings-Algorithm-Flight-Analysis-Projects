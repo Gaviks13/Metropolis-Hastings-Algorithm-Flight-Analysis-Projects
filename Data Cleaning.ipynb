{
 "cells": [
  {
   "cell_type": "code",
   "execution_count": 1,
   "id": "45c0e545",
   "metadata": {},
   "outputs": [],
   "source": [
    "# importing the required libraries\n",
    "import numpy as np\n",
    "import pandas as pd"
   ]
  },
  {
   "cell_type": "markdown",
   "id": "80eadb19",
   "metadata": {},
   "source": [
    "### Importing the cleaned dataset"
   ]
  },
  {
   "cell_type": "markdown",
   "id": "f329240c",
   "metadata": {},
   "source": [
    "## 2007.csv"
   ]
  },
  {
   "cell_type": "code",
   "execution_count": 2,
   "id": "31311077",
   "metadata": {},
   "outputs": [],
   "source": [
    "data_2007 = pd.read_csv(r\"D:\\User\\University\\Year 2\\Programming for Data Science\\Programming Coursework\\Extracted years\\2007.csv\")"
   ]
  },
  {
   "cell_type": "code",
   "execution_count": 3,
   "id": "b7c7562b",
   "metadata": {},
   "outputs": [
    {
     "data": {
      "text/plain": [
       "(7453215, 29)"
      ]
     },
     "execution_count": 3,
     "metadata": {},
     "output_type": "execute_result"
    }
   ],
   "source": [
    "data_2007.shape"
   ]
  },
  {
   "cell_type": "code",
   "execution_count": 4,
   "id": "3f3b546e",
   "metadata": {},
   "outputs": [
    {
     "data": {
      "text/html": [
       "<div>\n",
       "<style scoped>\n",
       "    .dataframe tbody tr th:only-of-type {\n",
       "        vertical-align: middle;\n",
       "    }\n",
       "\n",
       "    .dataframe tbody tr th {\n",
       "        vertical-align: top;\n",
       "    }\n",
       "\n",
       "    .dataframe thead th {\n",
       "        text-align: right;\n",
       "    }\n",
       "</style>\n",
       "<table border=\"1\" class=\"dataframe\">\n",
       "  <thead>\n",
       "    <tr style=\"text-align: right;\">\n",
       "      <th></th>\n",
       "      <th>Year</th>\n",
       "      <th>Month</th>\n",
       "      <th>DayofMonth</th>\n",
       "      <th>DayOfWeek</th>\n",
       "      <th>DepTime</th>\n",
       "      <th>CRSDepTime</th>\n",
       "      <th>ArrTime</th>\n",
       "      <th>CRSArrTime</th>\n",
       "      <th>UniqueCarrier</th>\n",
       "      <th>FlightNum</th>\n",
       "      <th>TailNum</th>\n",
       "      <th>ActualElapsedTime</th>\n",
       "      <th>CRSElapsedTime</th>\n",
       "      <th>AirTime</th>\n",
       "      <th>ArrDelay</th>\n",
       "      <th>DepDelay</th>\n",
       "      <th>Origin</th>\n",
       "      <th>Dest</th>\n",
       "      <th>Distance</th>\n",
       "      <th>TaxiIn</th>\n",
       "      <th>TaxiOut</th>\n",
       "      <th>Cancelled</th>\n",
       "      <th>CancellationCode</th>\n",
       "      <th>Diverted</th>\n",
       "      <th>CarrierDelay</th>\n",
       "      <th>WeatherDelay</th>\n",
       "      <th>NASDelay</th>\n",
       "      <th>SecurityDelay</th>\n",
       "      <th>LateAircraftDelay</th>\n",
       "    </tr>\n",
       "  </thead>\n",
       "  <tbody>\n",
       "    <tr>\n",
       "      <th>7453210</th>\n",
       "      <td>2007</td>\n",
       "      <td>12</td>\n",
       "      <td>15</td>\n",
       "      <td>6</td>\n",
       "      <td>1558.0</td>\n",
       "      <td>1605</td>\n",
       "      <td>1749.0</td>\n",
       "      <td>1736</td>\n",
       "      <td>DL</td>\n",
       "      <td>58</td>\n",
       "      <td>N670DN</td>\n",
       "      <td>111.0</td>\n",
       "      <td>91.0</td>\n",
       "      <td>80.0</td>\n",
       "      <td>13.0</td>\n",
       "      <td>-7.0</td>\n",
       "      <td>MCO</td>\n",
       "      <td>ATL</td>\n",
       "      <td>403</td>\n",
       "      <td>14</td>\n",
       "      <td>17</td>\n",
       "      <td>0</td>\n",
       "      <td>NaN</td>\n",
       "      <td>0</td>\n",
       "      <td>0</td>\n",
       "      <td>0</td>\n",
       "      <td>0</td>\n",
       "      <td>0</td>\n",
       "      <td>0</td>\n",
       "    </tr>\n",
       "    <tr>\n",
       "      <th>7453211</th>\n",
       "      <td>2007</td>\n",
       "      <td>12</td>\n",
       "      <td>15</td>\n",
       "      <td>6</td>\n",
       "      <td>1902.0</td>\n",
       "      <td>1851</td>\n",
       "      <td>2110.0</td>\n",
       "      <td>2105</td>\n",
       "      <td>DL</td>\n",
       "      <td>59</td>\n",
       "      <td>N829MH</td>\n",
       "      <td>248.0</td>\n",
       "      <td>254.0</td>\n",
       "      <td>221.0</td>\n",
       "      <td>5.0</td>\n",
       "      <td>11.0</td>\n",
       "      <td>ATL</td>\n",
       "      <td>SLC</td>\n",
       "      <td>1589</td>\n",
       "      <td>6</td>\n",
       "      <td>21</td>\n",
       "      <td>0</td>\n",
       "      <td>NaN</td>\n",
       "      <td>0</td>\n",
       "      <td>0</td>\n",
       "      <td>0</td>\n",
       "      <td>0</td>\n",
       "      <td>0</td>\n",
       "      <td>0</td>\n",
       "    </tr>\n",
       "    <tr>\n",
       "      <th>7453212</th>\n",
       "      <td>2007</td>\n",
       "      <td>12</td>\n",
       "      <td>15</td>\n",
       "      <td>6</td>\n",
       "      <td>1024.0</td>\n",
       "      <td>1025</td>\n",
       "      <td>1750.0</td>\n",
       "      <td>1735</td>\n",
       "      <td>DL</td>\n",
       "      <td>61</td>\n",
       "      <td>N623DL</td>\n",
       "      <td>266.0</td>\n",
       "      <td>250.0</td>\n",
       "      <td>233.0</td>\n",
       "      <td>15.0</td>\n",
       "      <td>-1.0</td>\n",
       "      <td>LAX</td>\n",
       "      <td>ATL</td>\n",
       "      <td>1946</td>\n",
       "      <td>14</td>\n",
       "      <td>19</td>\n",
       "      <td>0</td>\n",
       "      <td>NaN</td>\n",
       "      <td>0</td>\n",
       "      <td>0</td>\n",
       "      <td>0</td>\n",
       "      <td>15</td>\n",
       "      <td>0</td>\n",
       "      <td>0</td>\n",
       "    </tr>\n",
       "    <tr>\n",
       "      <th>7453213</th>\n",
       "      <td>2007</td>\n",
       "      <td>12</td>\n",
       "      <td>15</td>\n",
       "      <td>6</td>\n",
       "      <td>1353.0</td>\n",
       "      <td>1315</td>\n",
       "      <td>1658.0</td>\n",
       "      <td>1622</td>\n",
       "      <td>DL</td>\n",
       "      <td>62</td>\n",
       "      <td>N970DL</td>\n",
       "      <td>125.0</td>\n",
       "      <td>127.0</td>\n",
       "      <td>100.0</td>\n",
       "      <td>36.0</td>\n",
       "      <td>38.0</td>\n",
       "      <td>DFW</td>\n",
       "      <td>ATL</td>\n",
       "      <td>732</td>\n",
       "      <td>11</td>\n",
       "      <td>14</td>\n",
       "      <td>0</td>\n",
       "      <td>NaN</td>\n",
       "      <td>0</td>\n",
       "      <td>0</td>\n",
       "      <td>0</td>\n",
       "      <td>0</td>\n",
       "      <td>0</td>\n",
       "      <td>36</td>\n",
       "    </tr>\n",
       "    <tr>\n",
       "      <th>7453214</th>\n",
       "      <td>2007</td>\n",
       "      <td>12</td>\n",
       "      <td>15</td>\n",
       "      <td>6</td>\n",
       "      <td>1824.0</td>\n",
       "      <td>1800</td>\n",
       "      <td>2001.0</td>\n",
       "      <td>1928</td>\n",
       "      <td>DL</td>\n",
       "      <td>63</td>\n",
       "      <td>N628DL</td>\n",
       "      <td>97.0</td>\n",
       "      <td>88.0</td>\n",
       "      <td>61.0</td>\n",
       "      <td>33.0</td>\n",
       "      <td>24.0</td>\n",
       "      <td>ATL</td>\n",
       "      <td>MCO</td>\n",
       "      <td>403</td>\n",
       "      <td>10</td>\n",
       "      <td>26</td>\n",
       "      <td>0</td>\n",
       "      <td>NaN</td>\n",
       "      <td>0</td>\n",
       "      <td>24</td>\n",
       "      <td>0</td>\n",
       "      <td>9</td>\n",
       "      <td>0</td>\n",
       "      <td>0</td>\n",
       "    </tr>\n",
       "  </tbody>\n",
       "</table>\n",
       "</div>"
      ],
      "text/plain": [
       "         Year  Month  DayofMonth  DayOfWeek  DepTime  CRSDepTime  ArrTime  \\\n",
       "7453210  2007     12          15          6   1558.0        1605   1749.0   \n",
       "7453211  2007     12          15          6   1902.0        1851   2110.0   \n",
       "7453212  2007     12          15          6   1024.0        1025   1750.0   \n",
       "7453213  2007     12          15          6   1353.0        1315   1658.0   \n",
       "7453214  2007     12          15          6   1824.0        1800   2001.0   \n",
       "\n",
       "         CRSArrTime UniqueCarrier  FlightNum TailNum  ActualElapsedTime  \\\n",
       "7453210        1736            DL         58  N670DN              111.0   \n",
       "7453211        2105            DL         59  N829MH              248.0   \n",
       "7453212        1735            DL         61  N623DL              266.0   \n",
       "7453213        1622            DL         62  N970DL              125.0   \n",
       "7453214        1928            DL         63  N628DL               97.0   \n",
       "\n",
       "         CRSElapsedTime  AirTime  ArrDelay  DepDelay Origin Dest  Distance  \\\n",
       "7453210            91.0     80.0      13.0      -7.0    MCO  ATL       403   \n",
       "7453211           254.0    221.0       5.0      11.0    ATL  SLC      1589   \n",
       "7453212           250.0    233.0      15.0      -1.0    LAX  ATL      1946   \n",
       "7453213           127.0    100.0      36.0      38.0    DFW  ATL       732   \n",
       "7453214            88.0     61.0      33.0      24.0    ATL  MCO       403   \n",
       "\n",
       "         TaxiIn  TaxiOut  Cancelled CancellationCode  Diverted  CarrierDelay  \\\n",
       "7453210      14       17          0              NaN         0             0   \n",
       "7453211       6       21          0              NaN         0             0   \n",
       "7453212      14       19          0              NaN         0             0   \n",
       "7453213      11       14          0              NaN         0             0   \n",
       "7453214      10       26          0              NaN         0            24   \n",
       "\n",
       "         WeatherDelay  NASDelay  SecurityDelay  LateAircraftDelay  \n",
       "7453210             0         0              0                  0  \n",
       "7453211             0         0              0                  0  \n",
       "7453212             0        15              0                  0  \n",
       "7453213             0         0              0                 36  \n",
       "7453214             0         9              0                  0  "
      ]
     },
     "execution_count": 4,
     "metadata": {},
     "output_type": "execute_result"
    }
   ],
   "source": [
    "pd.set_option('display.max_columns', None)\n",
    "data_2007.tail(5)"
   ]
  },
  {
   "cell_type": "markdown",
   "id": "385c9af8",
   "metadata": {},
   "source": [
    "### Descriptions of all the columns in the dataset"
   ]
  },
  {
   "cell_type": "code",
   "execution_count": 5,
   "id": "ff935059",
   "metadata": {},
   "outputs": [
    {
     "data": {
      "text/html": [
       "<div>\n",
       "<style scoped>\n",
       "    .dataframe tbody tr th:only-of-type {\n",
       "        vertical-align: middle;\n",
       "    }\n",
       "\n",
       "    .dataframe tbody tr th {\n",
       "        vertical-align: top;\n",
       "    }\n",
       "\n",
       "    .dataframe thead th {\n",
       "        text-align: right;\n",
       "    }\n",
       "</style>\n",
       "<table border=\"1\" class=\"dataframe\">\n",
       "  <thead>\n",
       "    <tr style=\"text-align: right;\">\n",
       "      <th></th>\n",
       "      <th>Variable descriptions</th>\n",
       "      <th>Unnamed: 1</th>\n",
       "      <th>Unnamed: 2</th>\n",
       "    </tr>\n",
       "  </thead>\n",
       "  <tbody>\n",
       "    <tr>\n",
       "      <th>0</th>\n",
       "      <td>NaN</td>\n",
       "      <td>NaN</td>\n",
       "      <td>NaN</td>\n",
       "    </tr>\n",
       "    <tr>\n",
       "      <th>1</th>\n",
       "      <td>NaN</td>\n",
       "      <td>Name</td>\n",
       "      <td>Description</td>\n",
       "    </tr>\n",
       "    <tr>\n",
       "      <th>2</th>\n",
       "      <td>1.0</td>\n",
       "      <td>Year</td>\n",
       "      <td>1987-2008</td>\n",
       "    </tr>\n",
       "    <tr>\n",
       "      <th>3</th>\n",
       "      <td>2.0</td>\n",
       "      <td>Month</td>\n",
       "      <td>12-Jan</td>\n",
       "    </tr>\n",
       "    <tr>\n",
       "      <th>4</th>\n",
       "      <td>3.0</td>\n",
       "      <td>DayofMonth</td>\n",
       "      <td>31-Jan</td>\n",
       "    </tr>\n",
       "    <tr>\n",
       "      <th>5</th>\n",
       "      <td>4.0</td>\n",
       "      <td>DayOfWeek</td>\n",
       "      <td>1 (Monday) - 7 (Sunday)</td>\n",
       "    </tr>\n",
       "    <tr>\n",
       "      <th>6</th>\n",
       "      <td>5.0</td>\n",
       "      <td>DepTime</td>\n",
       "      <td>actual departure time (local, hhmm)</td>\n",
       "    </tr>\n",
       "    <tr>\n",
       "      <th>7</th>\n",
       "      <td>6.0</td>\n",
       "      <td>CRSDepTime</td>\n",
       "      <td>scheduled departure time (local, hhmm)</td>\n",
       "    </tr>\n",
       "    <tr>\n",
       "      <th>8</th>\n",
       "      <td>7.0</td>\n",
       "      <td>ArrTime</td>\n",
       "      <td>actual arrival time (local, hhmm)</td>\n",
       "    </tr>\n",
       "    <tr>\n",
       "      <th>9</th>\n",
       "      <td>8.0</td>\n",
       "      <td>CRSArrTime</td>\n",
       "      <td>scheduled arrival time (local, hhmm)</td>\n",
       "    </tr>\n",
       "    <tr>\n",
       "      <th>10</th>\n",
       "      <td>9.0</td>\n",
       "      <td>UniqueCarrier</td>\n",
       "      <td>unique carrier code</td>\n",
       "    </tr>\n",
       "    <tr>\n",
       "      <th>11</th>\n",
       "      <td>10.0</td>\n",
       "      <td>FlightNum</td>\n",
       "      <td>flight number</td>\n",
       "    </tr>\n",
       "    <tr>\n",
       "      <th>12</th>\n",
       "      <td>11.0</td>\n",
       "      <td>TailNum</td>\n",
       "      <td>plane tail number</td>\n",
       "    </tr>\n",
       "    <tr>\n",
       "      <th>13</th>\n",
       "      <td>12.0</td>\n",
       "      <td>ActualElapsedTime</td>\n",
       "      <td>in minutes</td>\n",
       "    </tr>\n",
       "    <tr>\n",
       "      <th>14</th>\n",
       "      <td>13.0</td>\n",
       "      <td>CRSElapsedTime</td>\n",
       "      <td>in minutes</td>\n",
       "    </tr>\n",
       "    <tr>\n",
       "      <th>15</th>\n",
       "      <td>14.0</td>\n",
       "      <td>AirTime</td>\n",
       "      <td>in minutes</td>\n",
       "    </tr>\n",
       "    <tr>\n",
       "      <th>16</th>\n",
       "      <td>15.0</td>\n",
       "      <td>ArrDelay</td>\n",
       "      <td>arrival delay, in minutes</td>\n",
       "    </tr>\n",
       "    <tr>\n",
       "      <th>17</th>\n",
       "      <td>16.0</td>\n",
       "      <td>DepDelay</td>\n",
       "      <td>departure delay, in minutes</td>\n",
       "    </tr>\n",
       "    <tr>\n",
       "      <th>18</th>\n",
       "      <td>17.0</td>\n",
       "      <td>Origin</td>\n",
       "      <td>origin IATA airport code</td>\n",
       "    </tr>\n",
       "    <tr>\n",
       "      <th>19</th>\n",
       "      <td>18.0</td>\n",
       "      <td>Dest</td>\n",
       "      <td>destination IATA airport code</td>\n",
       "    </tr>\n",
       "    <tr>\n",
       "      <th>20</th>\n",
       "      <td>19.0</td>\n",
       "      <td>Distance</td>\n",
       "      <td>in miles</td>\n",
       "    </tr>\n",
       "    <tr>\n",
       "      <th>21</th>\n",
       "      <td>20.0</td>\n",
       "      <td>TaxiIn</td>\n",
       "      <td>taxi in time, in minutes</td>\n",
       "    </tr>\n",
       "    <tr>\n",
       "      <th>22</th>\n",
       "      <td>21.0</td>\n",
       "      <td>TaxiOut</td>\n",
       "      <td>taxi out time in minutes</td>\n",
       "    </tr>\n",
       "    <tr>\n",
       "      <th>23</th>\n",
       "      <td>22.0</td>\n",
       "      <td>Cancelled</td>\n",
       "      <td>was the flight cancelled?</td>\n",
       "    </tr>\n",
       "    <tr>\n",
       "      <th>24</th>\n",
       "      <td>23.0</td>\n",
       "      <td>CancellationCode</td>\n",
       "      <td>reason for cancellation (A = carrier, B = weat...</td>\n",
       "    </tr>\n",
       "    <tr>\n",
       "      <th>25</th>\n",
       "      <td>24.0</td>\n",
       "      <td>Diverted</td>\n",
       "      <td>1 = yes, 0 = no</td>\n",
       "    </tr>\n",
       "    <tr>\n",
       "      <th>26</th>\n",
       "      <td>25.0</td>\n",
       "      <td>CarrierDelay</td>\n",
       "      <td>in minutes</td>\n",
       "    </tr>\n",
       "    <tr>\n",
       "      <th>27</th>\n",
       "      <td>26.0</td>\n",
       "      <td>WeatherDelay</td>\n",
       "      <td>in minutes</td>\n",
       "    </tr>\n",
       "    <tr>\n",
       "      <th>28</th>\n",
       "      <td>27.0</td>\n",
       "      <td>NASDelay</td>\n",
       "      <td>in minutes</td>\n",
       "    </tr>\n",
       "    <tr>\n",
       "      <th>29</th>\n",
       "      <td>28.0</td>\n",
       "      <td>SecurityDelay</td>\n",
       "      <td>in minutes</td>\n",
       "    </tr>\n",
       "    <tr>\n",
       "      <th>30</th>\n",
       "      <td>29.0</td>\n",
       "      <td>LateAircraftDelay</td>\n",
       "      <td>in minutes</td>\n",
       "    </tr>\n",
       "  </tbody>\n",
       "</table>\n",
       "</div>"
      ],
      "text/plain": [
       "    Variable descriptions         Unnamed: 1  \\\n",
       "0                     NaN                NaN   \n",
       "1                     NaN               Name   \n",
       "2                     1.0               Year   \n",
       "3                     2.0              Month   \n",
       "4                     3.0         DayofMonth   \n",
       "5                     4.0          DayOfWeek   \n",
       "6                     5.0            DepTime   \n",
       "7                     6.0         CRSDepTime   \n",
       "8                     7.0            ArrTime   \n",
       "9                     8.0         CRSArrTime   \n",
       "10                    9.0      UniqueCarrier   \n",
       "11                   10.0          FlightNum   \n",
       "12                   11.0            TailNum   \n",
       "13                   12.0  ActualElapsedTime   \n",
       "14                   13.0     CRSElapsedTime   \n",
       "15                   14.0            AirTime   \n",
       "16                   15.0           ArrDelay   \n",
       "17                   16.0           DepDelay   \n",
       "18                   17.0             Origin   \n",
       "19                   18.0               Dest   \n",
       "20                   19.0           Distance   \n",
       "21                   20.0             TaxiIn   \n",
       "22                   21.0            TaxiOut   \n",
       "23                   22.0          Cancelled   \n",
       "24                   23.0   CancellationCode   \n",
       "25                   24.0           Diverted   \n",
       "26                   25.0       CarrierDelay   \n",
       "27                   26.0       WeatherDelay   \n",
       "28                   27.0           NASDelay   \n",
       "29                   28.0      SecurityDelay   \n",
       "30                   29.0  LateAircraftDelay   \n",
       "\n",
       "                                           Unnamed: 2  \n",
       "0                                                 NaN  \n",
       "1                                         Description  \n",
       "2                                           1987-2008  \n",
       "3                                              12-Jan  \n",
       "4                                              31-Jan  \n",
       "5                             1 (Monday) - 7 (Sunday)  \n",
       "6                 actual departure time (local, hhmm)  \n",
       "7              scheduled departure time (local, hhmm)  \n",
       "8                   actual arrival time (local, hhmm)  \n",
       "9                scheduled arrival time (local, hhmm)  \n",
       "10                                unique carrier code  \n",
       "11                                      flight number  \n",
       "12                                  plane tail number  \n",
       "13                                         in minutes  \n",
       "14                                         in minutes  \n",
       "15                                         in minutes  \n",
       "16                          arrival delay, in minutes  \n",
       "17                        departure delay, in minutes  \n",
       "18                           origin IATA airport code  \n",
       "19                      destination IATA airport code  \n",
       "20                                           in miles  \n",
       "21                           taxi in time, in minutes  \n",
       "22                           taxi out time in minutes  \n",
       "23                          was the flight cancelled?  \n",
       "24  reason for cancellation (A = carrier, B = weat...  \n",
       "25                                    1 = yes, 0 = no  \n",
       "26                                         in minutes  \n",
       "27                                         in minutes  \n",
       "28                                         in minutes  \n",
       "29                                         in minutes  \n",
       "30                                         in minutes  "
      ]
     },
     "execution_count": 5,
     "metadata": {},
     "output_type": "execute_result"
    }
   ],
   "source": [
    "# opening the file showing the variable descriptions\n",
    "variable_descriptions = pd.read_csv(r\"D:\\User\\University\\Year 2\\Programming for Data Science\\Programming Coursework\\Additional files\\variable-descriptions.csv\")\n",
    "variable_descriptions"
   ]
  },
  {
   "cell_type": "markdown",
   "id": "622f8cf3",
   "metadata": {},
   "source": [
    "## Data Exploration"
   ]
  },
  {
   "cell_type": "code",
   "execution_count": 6,
   "id": "7c9d5a2a",
   "metadata": {},
   "outputs": [
    {
     "data": {
      "text/plain": [
       "Index(['Year', 'Month', 'DayofMonth', 'DayOfWeek', 'DepTime', 'CRSDepTime',\n",
       "       'ArrTime', 'CRSArrTime', 'UniqueCarrier', 'FlightNum', 'TailNum',\n",
       "       'ActualElapsedTime', 'CRSElapsedTime', 'AirTime', 'ArrDelay',\n",
       "       'DepDelay', 'Origin', 'Dest', 'Distance', 'TaxiIn', 'TaxiOut',\n",
       "       'Cancelled', 'CancellationCode', 'Diverted', 'CarrierDelay',\n",
       "       'WeatherDelay', 'NASDelay', 'SecurityDelay', 'LateAircraftDelay'],\n",
       "      dtype='object')"
      ]
     },
     "execution_count": 6,
     "metadata": {},
     "output_type": "execute_result"
    }
   ],
   "source": [
    "# checking the columns in 2007\n",
    "data_2007.columns"
   ]
  },
  {
   "cell_type": "code",
   "execution_count": 7,
   "id": "188ac05f",
   "metadata": {},
   "outputs": [
    {
     "data": {
      "text/plain": [
       "Year                   int64\n",
       "Month                  int64\n",
       "DayofMonth             int64\n",
       "DayOfWeek              int64\n",
       "DepTime              float64\n",
       "CRSDepTime             int64\n",
       "ArrTime              float64\n",
       "CRSArrTime             int64\n",
       "UniqueCarrier         object\n",
       "FlightNum              int64\n",
       "TailNum               object\n",
       "ActualElapsedTime    float64\n",
       "CRSElapsedTime       float64\n",
       "AirTime              float64\n",
       "ArrDelay             float64\n",
       "DepDelay             float64\n",
       "Origin                object\n",
       "Dest                  object\n",
       "Distance               int64\n",
       "TaxiIn                 int64\n",
       "TaxiOut                int64\n",
       "Cancelled              int64\n",
       "CancellationCode      object\n",
       "Diverted               int64\n",
       "CarrierDelay           int64\n",
       "WeatherDelay           int64\n",
       "NASDelay               int64\n",
       "SecurityDelay          int64\n",
       "LateAircraftDelay      int64\n",
       "dtype: object"
      ]
     },
     "execution_count": 7,
     "metadata": {},
     "output_type": "execute_result"
    }
   ],
   "source": [
    "data_2007.dtypes"
   ]
  },
  {
   "cell_type": "markdown",
   "id": "b2496937",
   "metadata": {},
   "source": [
    "### Checking for any null/missing values"
   ]
  },
  {
   "cell_type": "code",
   "execution_count": 8,
   "id": "f5065592",
   "metadata": {},
   "outputs": [
    {
     "data": {
      "text/plain": [
       "Year                       0\n",
       "Month                      0\n",
       "DayofMonth                 0\n",
       "DayOfWeek                  0\n",
       "DepTime               160748\n",
       "CRSDepTime                 0\n",
       "ArrTime               177927\n",
       "CRSArrTime                 0\n",
       "UniqueCarrier              0\n",
       "FlightNum                  0\n",
       "TailNum                   22\n",
       "ActualElapsedTime     177927\n",
       "CRSElapsedTime           994\n",
       "AirTime               177927\n",
       "ArrDelay              177927\n",
       "DepDelay              160748\n",
       "Origin                     0\n",
       "Dest                       0\n",
       "Distance                   0\n",
       "TaxiIn                     0\n",
       "TaxiOut                    0\n",
       "Cancelled                  0\n",
       "CancellationCode     7292466\n",
       "Diverted                   0\n",
       "CarrierDelay               0\n",
       "WeatherDelay               0\n",
       "NASDelay                   0\n",
       "SecurityDelay              0\n",
       "LateAircraftDelay          0\n",
       "dtype: int64"
      ]
     },
     "execution_count": 8,
     "metadata": {},
     "output_type": "execute_result"
    }
   ],
   "source": [
    "# getting the count of null values for each column in the merged dataset\n",
    "data_2007.isnull().sum()"
   ]
  },
  {
   "cell_type": "code",
   "execution_count": 9,
   "id": "8b7b81e7",
   "metadata": {},
   "outputs": [
    {
     "data": {
      "text/plain": [
       "DepTime               2.16%\n",
       "ArrTime               2.39%\n",
       "TailNum               0.00%\n",
       "ActualElapsedTime     2.39%\n",
       "CRSElapsedTime        0.01%\n",
       "AirTime               2.39%\n",
       "ArrDelay              2.39%\n",
       "DepDelay              2.16%\n",
       "CancellationCode     97.84%\n",
       "dtype: object"
      ]
     },
     "execution_count": 9,
     "metadata": {},
     "output_type": "execute_result"
    }
   ],
   "source": [
    "# checking the percentage of null values in the columns which had null values\n",
    "\n",
    "no_of_null_values = data_2007.isnull().sum(axis=0)\n",
    "\n",
    "percentage_of_null_values = (no_of_null_values / (data_2007.shape[0])) * 100\n",
    "(percentage_of_null_values[percentage_of_null_values>0]).map('{:.2f}%'.format)                                                          "
   ]
  },
  {
   "cell_type": "code",
   "execution_count": 10,
   "id": "ede8e8d2",
   "metadata": {},
   "outputs": [],
   "source": [
    "# removing the 'CancellationCode' column since 98% of the values are null\n",
    "data_2007 = data_2007.drop('CancellationCode', axis=1)"
   ]
  },
  {
   "cell_type": "markdown",
   "id": "a2ea62bc",
   "metadata": {},
   "source": [
    "## Additional Datasets"
   ]
  },
  {
   "cell_type": "markdown",
   "id": "98226682",
   "metadata": {},
   "source": [
    "### Importing additional dataset, airport_data.csv and plane_data.csv for cleaning"
   ]
  },
  {
   "cell_type": "code",
   "execution_count": 11,
   "id": "484de2f5",
   "metadata": {},
   "outputs": [],
   "source": [
    "# importing the additional datasets that were provided\n",
    "airport_data = pd.read_csv(r\"D:\\User\\University\\Year 2\\Programming for Data Science\\Programming Coursework\\Additional files\\airports.csv\")\n",
    "plane_data = pd.read_csv(r\"D:\\User\\University\\Year 2\\Programming for Data Science\\Programming Coursework\\Additional files\\plane-data.csv\")"
   ]
  },
  {
   "cell_type": "markdown",
   "id": "d72fa659",
   "metadata": {},
   "source": [
    "## airport_data.csv"
   ]
  },
  {
   "cell_type": "markdown",
   "id": "8c3e1664",
   "metadata": {},
   "source": [
    "## Data Exploration"
   ]
  },
  {
   "cell_type": "code",
   "execution_count": 12,
   "id": "87475b58",
   "metadata": {},
   "outputs": [
    {
     "data": {
      "text/html": [
       "<div>\n",
       "<style scoped>\n",
       "    .dataframe tbody tr th:only-of-type {\n",
       "        vertical-align: middle;\n",
       "    }\n",
       "\n",
       "    .dataframe tbody tr th {\n",
       "        vertical-align: top;\n",
       "    }\n",
       "\n",
       "    .dataframe thead th {\n",
       "        text-align: right;\n",
       "    }\n",
       "</style>\n",
       "<table border=\"1\" class=\"dataframe\">\n",
       "  <thead>\n",
       "    <tr style=\"text-align: right;\">\n",
       "      <th></th>\n",
       "      <th>iata</th>\n",
       "      <th>airport</th>\n",
       "      <th>city</th>\n",
       "      <th>state</th>\n",
       "      <th>country</th>\n",
       "      <th>lat</th>\n",
       "      <th>long</th>\n",
       "    </tr>\n",
       "  </thead>\n",
       "  <tbody>\n",
       "    <tr>\n",
       "      <th>0</th>\n",
       "      <td>00M</td>\n",
       "      <td>Thigpen</td>\n",
       "      <td>Bay Springs</td>\n",
       "      <td>MS</td>\n",
       "      <td>USA</td>\n",
       "      <td>31.953765</td>\n",
       "      <td>-89.234505</td>\n",
       "    </tr>\n",
       "    <tr>\n",
       "      <th>1</th>\n",
       "      <td>00R</td>\n",
       "      <td>Livingston Municipal</td>\n",
       "      <td>Livingston</td>\n",
       "      <td>TX</td>\n",
       "      <td>USA</td>\n",
       "      <td>30.685861</td>\n",
       "      <td>-95.017928</td>\n",
       "    </tr>\n",
       "    <tr>\n",
       "      <th>2</th>\n",
       "      <td>00V</td>\n",
       "      <td>Meadow Lake</td>\n",
       "      <td>Colorado Springs</td>\n",
       "      <td>CO</td>\n",
       "      <td>USA</td>\n",
       "      <td>38.945749</td>\n",
       "      <td>-104.569893</td>\n",
       "    </tr>\n",
       "    <tr>\n",
       "      <th>3</th>\n",
       "      <td>01G</td>\n",
       "      <td>Perry-Warsaw</td>\n",
       "      <td>Perry</td>\n",
       "      <td>NY</td>\n",
       "      <td>USA</td>\n",
       "      <td>42.741347</td>\n",
       "      <td>-78.052081</td>\n",
       "    </tr>\n",
       "    <tr>\n",
       "      <th>4</th>\n",
       "      <td>01J</td>\n",
       "      <td>Hilliard Airpark</td>\n",
       "      <td>Hilliard</td>\n",
       "      <td>FL</td>\n",
       "      <td>USA</td>\n",
       "      <td>30.688012</td>\n",
       "      <td>-81.905944</td>\n",
       "    </tr>\n",
       "  </tbody>\n",
       "</table>\n",
       "</div>"
      ],
      "text/plain": [
       "  iata               airport              city state country        lat  \\\n",
       "0  00M              Thigpen        Bay Springs    MS     USA  31.953765   \n",
       "1  00R  Livingston Municipal        Livingston    TX     USA  30.685861   \n",
       "2  00V           Meadow Lake  Colorado Springs    CO     USA  38.945749   \n",
       "3  01G          Perry-Warsaw             Perry    NY     USA  42.741347   \n",
       "4  01J      Hilliard Airpark          Hilliard    FL     USA  30.688012   \n",
       "\n",
       "         long  \n",
       "0  -89.234505  \n",
       "1  -95.017928  \n",
       "2 -104.569893  \n",
       "3  -78.052081  \n",
       "4  -81.905944  "
      ]
     },
     "execution_count": 12,
     "metadata": {},
     "output_type": "execute_result"
    }
   ],
   "source": [
    "airport_data.head()"
   ]
  },
  {
   "cell_type": "code",
   "execution_count": 13,
   "id": "66ebc005",
   "metadata": {},
   "outputs": [
    {
     "data": {
      "text/plain": [
       "country\n",
       "USA                               3372\n",
       "Thailand                             1\n",
       "Palau                                1\n",
       "N Mariana Islands                    1\n",
       "Federated States of Micronesia       1\n",
       "Name: count, dtype: int64"
      ]
     },
     "execution_count": 13,
     "metadata": {},
     "output_type": "execute_result"
    }
   ],
   "source": [
    "airport_data['country'].value_counts()"
   ]
  },
  {
   "cell_type": "code",
   "execution_count": 14,
   "id": "e830464e",
   "metadata": {},
   "outputs": [
    {
     "data": {
      "text/plain": [
       "iata        object\n",
       "airport     object\n",
       "city        object\n",
       "state       object\n",
       "country     object\n",
       "lat        float64\n",
       "long       float64\n",
       "dtype: object"
      ]
     },
     "execution_count": 14,
     "metadata": {},
     "output_type": "execute_result"
    }
   ],
   "source": [
    "airport_data.dtypes"
   ]
  },
  {
   "cell_type": "markdown",
   "id": "bbf09649",
   "metadata": {},
   "source": [
    "### Checking and removing any null/missing values"
   ]
  },
  {
   "cell_type": "code",
   "execution_count": 15,
   "id": "68688257",
   "metadata": {},
   "outputs": [
    {
     "data": {
      "text/plain": [
       "iata        0\n",
       "airport     0\n",
       "city       12\n",
       "state      12\n",
       "country     0\n",
       "lat         0\n",
       "long        0\n",
       "dtype: int64"
      ]
     },
     "execution_count": 15,
     "metadata": {},
     "output_type": "execute_result"
    }
   ],
   "source": [
    "# checking the number of null/missing values in the airport dataset\n",
    "airport_data.isnull().sum()"
   ]
  },
  {
   "cell_type": "code",
   "execution_count": 16,
   "id": "8f0ed3cd",
   "metadata": {},
   "outputs": [],
   "source": [
    "# removing all the rows with null values\n",
    "airport_data = airport_data.dropna()"
   ]
  },
  {
   "cell_type": "markdown",
   "id": "95a21c0f",
   "metadata": {},
   "source": [
    "## plane_data.csv"
   ]
  },
  {
   "cell_type": "markdown",
   "id": "70eb05da",
   "metadata": {},
   "source": [
    "## Data Exploration"
   ]
  },
  {
   "cell_type": "code",
   "execution_count": 17,
   "id": "d347d966",
   "metadata": {},
   "outputs": [
    {
     "data": {
      "text/plain": [
       "tailnum           object\n",
       "type              object\n",
       "manufacturer      object\n",
       "issue_date        object\n",
       "model             object\n",
       "status            object\n",
       "aircraft_type     object\n",
       "engine_type       object\n",
       "year             float64\n",
       "dtype: object"
      ]
     },
     "execution_count": 17,
     "metadata": {},
     "output_type": "execute_result"
    }
   ],
   "source": [
    "plane_data.dtypes"
   ]
  },
  {
   "cell_type": "code",
   "execution_count": 18,
   "id": "54092d18",
   "metadata": {},
   "outputs": [
    {
     "data": {
      "text/plain": [
       "tailnum            0\n",
       "type             549\n",
       "manufacturer     549\n",
       "issue_date       550\n",
       "model            549\n",
       "status           549\n",
       "aircraft_type    549\n",
       "engine_type      552\n",
       "year             694\n",
       "dtype: int64"
      ]
     },
     "execution_count": 18,
     "metadata": {},
     "output_type": "execute_result"
    }
   ],
   "source": [
    "# number of null/missing values in the plane dataset\n",
    "plane_data.isnull().sum()"
   ]
  },
  {
   "cell_type": "markdown",
   "id": "f8d43011",
   "metadata": {},
   "source": [
    "### Checking and removing any null/missing values"
   ]
  },
  {
   "cell_type": "code",
   "execution_count": 19,
   "id": "2a52fb89",
   "metadata": {},
   "outputs": [],
   "source": [
    "# removing all the rows with null values\n",
    "plane_data = plane_data.dropna()"
   ]
  },
  {
   "cell_type": "markdown",
   "id": "6f4b066d",
   "metadata": {},
   "source": [
    "## Deduplication"
   ]
  },
  {
   "cell_type": "code",
   "execution_count": 20,
   "id": "da864b95",
   "metadata": {},
   "outputs": [],
   "source": [
    "# checking the number of duplicated records if any for each dataset"
   ]
  },
  {
   "cell_type": "code",
   "execution_count": 21,
   "id": "7ef33959",
   "metadata": {},
   "outputs": [
    {
     "data": {
      "text/plain": [
       "27"
      ]
     },
     "execution_count": 21,
     "metadata": {},
     "output_type": "execute_result"
    }
   ],
   "source": [
    "data_2007.duplicated().sum()"
   ]
  },
  {
   "cell_type": "code",
   "execution_count": 22,
   "id": "3ce30638",
   "metadata": {},
   "outputs": [
    {
     "data": {
      "text/plain": [
       "0"
      ]
     },
     "execution_count": 22,
     "metadata": {},
     "output_type": "execute_result"
    }
   ],
   "source": [
    "airport_data.duplicated().sum()"
   ]
  },
  {
   "cell_type": "code",
   "execution_count": 23,
   "id": "d7847856",
   "metadata": {},
   "outputs": [
    {
     "data": {
      "text/plain": [
       "0"
      ]
     },
     "execution_count": 23,
     "metadata": {},
     "output_type": "execute_result"
    }
   ],
   "source": [
    "plane_data.duplicated().sum()"
   ]
  },
  {
   "cell_type": "code",
   "execution_count": 24,
   "id": "3415051e",
   "metadata": {},
   "outputs": [],
   "source": [
    "# removing all the duplicates from every dataset"
   ]
  },
  {
   "cell_type": "code",
   "execution_count": 25,
   "id": "788df2c1",
   "metadata": {},
   "outputs": [],
   "source": [
    "data_2007 = data_2007.drop_duplicates(inplace = False)"
   ]
  },
  {
   "cell_type": "code",
   "execution_count": 26,
   "id": "0749c240",
   "metadata": {},
   "outputs": [],
   "source": [
    "airport_data = airport_data.drop_duplicates(inplace=False)"
   ]
  },
  {
   "cell_type": "code",
   "execution_count": 27,
   "id": "ccff8628",
   "metadata": {},
   "outputs": [],
   "source": [
    "plane_data = plane_data.drop_duplicates(inplace=False)"
   ]
  },
  {
   "cell_type": "markdown",
   "id": "80709a2e",
   "metadata": {},
   "source": [
    "### Saving the cleaned datasets"
   ]
  },
  {
   "cell_type": "code",
   "execution_count": 28,
   "id": "751ead4c",
   "metadata": {},
   "outputs": [],
   "source": [
    "# saving the new cleaned files to the pc\n",
    "data_2007.to_csv(r\"D:\\User\\University\\Year 2\\Programming for Data Science\\Programming Coursework\\cleaned data files\\combined_data.csv\", index=False)\n",
    "airport_data.to_csv(r\"D:\\User\\University\\Year 2\\Programming for Data Science\\Programming Coursework\\cleaned data files\\airport_data.csv\", index=False)\n",
    "plane_data.to_csv(r\"D:\\User\\University\\Year 2\\Programming for Data Science\\Programming Coursework\\cleaned data files\\plane_data.csv\", index=False)"
   ]
  }
 ],
 "metadata": {
  "kernelspec": {
   "display_name": "Python 3 (ipykernel)",
   "language": "python",
   "name": "python3"
  },
  "language_info": {
   "codemirror_mode": {
    "name": "ipython",
    "version": 3
   },
   "file_extension": ".py",
   "mimetype": "text/x-python",
   "name": "python",
   "nbconvert_exporter": "python",
   "pygments_lexer": "ipython3",
   "version": "3.11.5"
  }
 },
 "nbformat": 4,
 "nbformat_minor": 5
}
